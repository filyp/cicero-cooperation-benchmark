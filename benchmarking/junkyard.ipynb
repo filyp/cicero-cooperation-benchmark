{
 "cells": [
  {
   "cell_type": "code",
   "execution_count": null,
   "metadata": {},
   "outputs": [],
   "source": [
    "# # list all the prompts\n",
    "# for phase_dialogue, cicero_power, human_power in get_all_phase_dialogues():\n",
    "#     print(f\"Cicero is: {cicero_power}\\n\")\n",
    "#     text = build_dialogue_text(phase_dialogue)\n",
    "#     print(text)\n",
    "#     print(\"=====================================================\\n\\n\")"
   ]
  },
  {
   "cell_type": "code",
   "execution_count": null,
   "metadata": {},
   "outputs": [],
   "source": [
    "# # answer random dialogue\n",
    "# dialogue, cicero_power, human_power = random.choice(list(get_all_phase_dialogues()))\n",
    "\n",
    "# text = build_dialogue_text(dialogue)\n",
    "# prompt = cooperation_prompt1.format(cicero_power=cicero_power, human_power=human_power)\n",
    "\n",
    "# print(f\"( Cicero is: {cicero_power} )\\n\")\n",
    "# print(text + prompt)\n",
    "\n",
    "# response = openai.Completion.create(\n",
    "#     model=\"text-davinci-003\",\n",
    "#     # model=\"text-curie-001\",\n",
    "#     prompt=text + prompt,\n",
    "#     max_tokens=300,\n",
    "# )[\"choices\"][0][\"text\"]\n",
    "\n",
    "# print(response)"
   ]
  }
 ],
 "metadata": {
  "kernelspec": {
   "display_name": "Python 3.10.7 64-bit",
   "language": "python",
   "name": "python3"
  },
  "language_info": {
   "name": "python",
   "version": "3.10.7"
  },
  "orig_nbformat": 4,
  "vscode": {
   "interpreter": {
    "hash": "e7370f93d1d0cde622a1f8e1c04877d8463912d04d973331ad4851f04de6915a"
   }
  }
 },
 "nbformat": 4,
 "nbformat_minor": 2
}
